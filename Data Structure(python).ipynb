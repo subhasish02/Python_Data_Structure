{
 "cells": [
  {
   "cell_type": "markdown",
   "id": "e53d55e2",
   "metadata": {},
   "source": [
    "# Data Structure (python)"
   ]
  },
  {
   "cell_type": "markdown",
   "id": "cae65bd7",
   "metadata": {},
   "source": [
    "# Discuss string slicing and provide examples."
   ]
  },
  {
   "cell_type": "markdown",
   "id": "9331fe00",
   "metadata": {},
   "source": [
    "String Slicing in Python\n",
    "\n",
    "String slicing is a powerful technique that allows you to extract specific substrings from a given string. It involves specifying the starting and ending indices (inclusive and exclusive, respectively) of the desired substring."
   ]
  },
  {
   "cell_type": "raw",
   "id": "84f54329",
   "metadata": {},
   "source": [
    "Syntax:\n",
    "\n",
    "Python\n",
    "string[start:end:step]"
   ]
  },
  {
   "cell_type": "markdown",
   "id": "02af63a7",
   "metadata": {},
   "source": [
    "string: The original string you want to slice.\n",
    "start: The index of the first character to include in the substring (default is 0).\n",
    "end: The index of the first character not to include in the substring (default is the length of the string).\n",
    "step: The step size (how many characters to skip between each included character, default is 1)."
   ]
  },
  {
   "cell_type": "code",
   "execution_count": 1,
   "id": "39457b29",
   "metadata": {},
   "outputs": [
    {
     "name": "stdout",
     "output_type": "stream",
     "text": [
      "world\n"
     ]
    }
   ],
   "source": [
    "#Examples:\n",
    "#Basic Slicing:\n",
    "my_string = \"Hello, world!\"\n",
    "\n",
    "# Extract the substring \"world\"\n",
    "substring = my_string[7:12]\n",
    "print(substring)  # Output: world"
   ]
  },
  {
   "cell_type": "code",
   "execution_count": 2,
   "id": "08c49c2c",
   "metadata": {},
   "outputs": [
    {
     "name": "stdout",
     "output_type": "stream",
     "text": [
      "ld!\n"
     ]
    }
   ],
   "source": [
    "#Negative Indices:\n",
    "# Extract the last 3 characters\n",
    "last_3 = my_string[-3:]\n",
    "print(last_3)  # Output: ld!"
   ]
  },
  {
   "cell_type": "code",
   "execution_count": 3,
   "id": "2eb44495",
   "metadata": {},
   "outputs": [
    {
     "name": "stdout",
     "output_type": "stream",
     "text": [
      "Hlo ol!\n"
     ]
    }
   ],
   "source": [
    "#Step Size:\n",
    "# Extract every other character\n",
    "every_other = my_string[::2]\n",
    "print(every_other)  # Output: Hlo ol"
   ]
  },
  {
   "cell_type": "code",
   "execution_count": 4,
   "id": "deed7795",
   "metadata": {},
   "outputs": [
    {
     "name": "stdout",
     "output_type": "stream",
     "text": [
      "!dlrow ,olleH\n"
     ]
    }
   ],
   "source": [
    "#Reversing a String:\n",
    "# Reverse the string\n",
    "reversed_string = my_string[::-1]\n",
    "print(reversed_string)  # Output: !dlrow ,olleH"
   ]
  },
  {
   "cell_type": "markdown",
   "id": "f091a680",
   "metadata": {},
   "source": [
    "Key Points:\n",
    "\n",
    "If start is omitted, the default is 0 (beginning of the string).\n",
    "If end is omitted, the default is the length of the string (end of the string).\n",
    "If step is omitted, the default is 1 (every character).\n",
    "Negative indices count from the end of the string.\n",
    "The step parameter can be positive, negative, or zero. A negative step reverses the order of the extracted characters."
   ]
  },
  {
   "cell_type": "markdown",
   "id": "26378c4d",
   "metadata": {},
   "source": [
    "# Explain the key features of lists in python."
   ]
  },
  {
   "cell_type": "raw",
   "id": "dda56a88",
   "metadata": {},
   "source": [
    "Key Features of Lists in Python:\n",
    "\n",
    "Ordered Sequence: Lists maintain the order of elements, meaning their position within the list is significant. This allows for easy access and manipulation based on indices.\n",
    "\n",
    "Mutable: Lists are mutable, which means you can modify their elements after creation. This flexibility is crucial for many data structures and algorithms.\n",
    "\n",
    "Heterogeneous Elements: Lists can contain elements of different data types, making them versatile for storing diverse information.\n",
    "\n",
    "Indexing: Each element in a list has an index, starting from 0. You can use indices to access, modify, or remove specific elements.\n",
    "\n",
    "Slicing: You can extract substrings from a list using slicing, similar to string slicing. This allows for efficient manipulation of portions of the list.\n",
    "\n",
    "Negative Indexing: Negative indices can be used to access elements from the end of the list. For example, list[-1] refers to the last element.\n",
    "\n",
    "Methods: Lists have a rich set of methods that provide various functionalities, including:\n",
    "\n",
    "append(element): Adds an element to the end of the list.\n",
    "insert(index, element): Inserts an element at a specified index.\n",
    "remove(element): Removes the first occurrence of an element from the list.\n",
    "pop(index=None): Removes and returns the element at a specified index (or the last element if no index is provided).\n",
    "index(element): Returns the index of the first occurrence of an element.\n",
    "count(element): Returns the number of occurrences of an element in the list.\n",
    "sort(): Sorts the elements in ascending order.\n",
    "reverse(): Reverses the order of the elements.\n",
    "copy(): Creates a shallow copy of the list.\n",
    "clear(): Removes all elements from the list.\n",
    "Nested Lists: Lists can contain other lists, creating nested data structures. This enables you to represent complex relationships and hierarchies.\n",
    "\n",
    "Iterability: Lists are iterable, meaning you can use them in loops (like for loops) to iterate over their elements.\n",
    "\n",
    "Memory Efficiency: Lists are generally efficient in terms of memory usage, especially for storing large collections of elements."
   ]
  },
  {
   "cell_type": "code",
   "execution_count": 5,
   "id": "c9a535e1",
   "metadata": {},
   "outputs": [
    {
     "name": "stdout",
     "output_type": "stream",
     "text": [
      "10\n",
      "[True, False]\n",
      "[10, 'world', 3.14, [True, False]]\n",
      "[10, 'world', 3.14, [True, False], 5]\n",
      "[10, 3.14, [True, False], 5]\n",
      "[3.14, [True, False]]\n"
     ]
    }
   ],
   "source": [
    "#Example:\n",
    "my_list = [10, \"hello\", 3.14, [True, False]]\n",
    "\n",
    "# Access elements\n",
    "print(my_list[0])  # Output: 10\n",
    "print(my_list[-1])  # Output: [True, False]\n",
    "\n",
    "# Modify elements\n",
    "my_list[1] = \"world\"\n",
    "print(my_list)  # Output: [10, 'world', 3.14, [True, False]]\n",
    "\n",
    "# Add elements\n",
    "my_list.append(5)\n",
    "print(my_list)  # Output: [10, 'world', 3.14, [True, False], 5]\n",
    "\n",
    "# Remove elements\n",
    "my_list.remove(\"world\")\n",
    "print(my_list)  # Output: [10, 3.14, [True, False], 5]\n",
    "\n",
    "# Slicing\n",
    "sublist = my_list[1:3]\n",
    "print(sublist)  # Output: [3.14, [True, False]]"
   ]
  },
  {
   "cell_type": "markdown",
   "id": "ee8774a5",
   "metadata": {},
   "source": [
    "# Describe how to access ,modify and delete elements in a list with examples."
   ]
  },
  {
   "cell_type": "markdown",
   "id": "968ce83d",
   "metadata": {},
   "source": [
    "Accessing Elements:\n",
    "\n",
    "Indexing: Use square brackets and an index to access a specific element. Indices start from 0."
   ]
  },
  {
   "cell_type": "code",
   "execution_count": 6,
   "id": "5541dc14",
   "metadata": {},
   "outputs": [],
   "source": [
    "#example:\n",
    "my_list = [10, 20, 30]\n",
    "first_element = my_list[0]  # Accesses the first element (10)\n",
    "last_element = my_list[-1]  # Accesses the last element (30)"
   ]
  },
  {
   "cell_type": "markdown",
   "id": "a1c3a521",
   "metadata": {},
   "source": [
    "Slicing: Extract a range of elements using slicing."
   ]
  },
  {
   "cell_type": "code",
   "execution_count": 7,
   "id": "4f728124",
   "metadata": {},
   "outputs": [],
   "source": [
    "#Example:\n",
    "sublist = my_list[1:3]  # Extracts elements at indices 1 and 2 (20, 30)"
   ]
  },
  {
   "cell_type": "markdown",
   "id": "c24a4443",
   "metadata": {},
   "source": [
    "Modifying Elements:\n",
    "\n",
    "Direct Assignment: Assign a new value to an element using its index."
   ]
  },
  {
   "cell_type": "code",
   "execution_count": 8,
   "id": "599aac41",
   "metadata": {},
   "outputs": [],
   "source": [
    "#Example:\n",
    "my_list[1] = 50  # Changes the second element to 50"
   ]
  },
  {
   "cell_type": "markdown",
   "id": "4fc2de51",
   "metadata": {},
   "source": [
    "In-Place Operations: Modify elements using in-place operators like +=, -=, *=, etc."
   ]
  },
  {
   "cell_type": "code",
   "execution_count": 9,
   "id": "665658ef",
   "metadata": {},
   "outputs": [],
   "source": [
    "#Example:\n",
    "my_list[2] *= 2  # Doubles the third element (30 * 2 = 60)"
   ]
  },
  {
   "cell_type": "markdown",
   "id": "42e3daf2",
   "metadata": {},
   "source": [
    "Deleting Elements:\n",
    "\n",
    "remove() Method: Remove the first occurrence of a specific element."
   ]
  },
  {
   "cell_type": "code",
   "execution_count": 11,
   "id": "ae70a229",
   "metadata": {},
   "outputs": [],
   "source": [
    "#Example:\n",
    "my_list = [10, 20, 30]\n",
    "my_list.remove(20)  # Removes the element 20"
   ]
  },
  {
   "cell_type": "markdown",
   "id": "b5a53f3b",
   "metadata": {},
   "source": [
    "pop() Method: Remove and return an element at a specified index (or the last element if no index is provided)."
   ]
  },
  {
   "cell_type": "code",
   "execution_count": 17,
   "id": "ed077424",
   "metadata": {},
   "outputs": [],
   "source": [
    "# Example:\n",
    "my_list = [10, 20, 30]\n",
    "removed_element = my_list.pop(1)  # Removes and returns the second element (50)"
   ]
  },
  {
   "cell_type": "markdown",
   "id": "9b08238c",
   "metadata": {},
   "source": [
    "Del Statement: Remove an element or a range of elements using the del statement."
   ]
  },
  {
   "cell_type": "code",
   "execution_count": 16,
   "id": "f6bc6132",
   "metadata": {},
   "outputs": [],
   "source": [
    "#Examples:\n",
    "del my_list[0]  # Removes the first element\n",
    "del my_list[1:3]  # Removes elements at indices 1 and 2"
   ]
  },
  {
   "cell_type": "raw",
   "id": "8e2814f4",
   "metadata": {},
   "source": [
    "Additional Notes:\n",
    "\n",
    "Negative indices can be used to access elements from the end of the list.\n",
    "If you try to access an index that is out of bounds, it will raise an IndexError.\n",
    "When using slicing, the start index is inclusive, and the end index is exclusive.\n",
    "The pop() method returns the removed element, which can be useful for saving its value.\n",
    "The del statement can also be used to delete entire lists."
   ]
  },
  {
   "cell_type": "markdown",
   "id": "c88306ae",
   "metadata": {},
   "source": [
    "# Compare and Constract tuples and lists with examples."
   ]
  },
  {
   "cell_type": "markdown",
   "id": "c4aeb666",
   "metadata": {},
   "source": [
    "Tuples vs. Lists in Python: A Comparison\n",
    "Tuples and lists are both ordered collections of elements in Python, but they have significant differences in terms of mutability and usage.\n",
    "\n",
    "Tuples\n",
    "Immutability: Tuples are immutable, meaning their elements cannot be changed after creation. This makes them ideal for representing data that should remain constant, such as coordinates or database records.\n",
    "Syntax: Tuples are defined using parentheses ()."
   ]
  },
  {
   "cell_type": "code",
   "execution_count": 18,
   "id": "95890a29",
   "metadata": {},
   "outputs": [
    {
     "ename": "TypeError",
     "evalue": "'tuple' object does not support item assignment",
     "output_type": "error",
     "traceback": [
      "\u001b[1;31m---------------------------------------------------------------------------\u001b[0m",
      "\u001b[1;31mTypeError\u001b[0m                                 Traceback (most recent call last)",
      "Input \u001b[1;32mIn [18]\u001b[0m, in \u001b[0;36m<cell line: 4>\u001b[1;34m()\u001b[0m\n\u001b[0;32m      2\u001b[0m my_tuple \u001b[38;5;241m=\u001b[39m (\u001b[38;5;241m1\u001b[39m, \u001b[38;5;241m2\u001b[39m, \u001b[38;5;241m3\u001b[39m, \u001b[38;5;124m\"\u001b[39m\u001b[38;5;124mhello\u001b[39m\u001b[38;5;124m\"\u001b[39m)\n\u001b[0;32m      3\u001b[0m \u001b[38;5;66;03m# Attempting to modify a tuple element will raise a TypeError\u001b[39;00m\n\u001b[1;32m----> 4\u001b[0m my_tuple[\u001b[38;5;241m0\u001b[39m] \u001b[38;5;241m=\u001b[39m \u001b[38;5;241m5\u001b[39m\n",
      "\u001b[1;31mTypeError\u001b[0m: 'tuple' object does not support item assignment"
     ]
    }
   ],
   "source": [
    "#Examples:\n",
    "my_tuple = (1, 2, 3, \"hello\")\n",
    "# Attempting to modify a tuple element will raise a TypeError\n",
    "my_tuple[0] = 5  # This will cause an error"
   ]
  },
  {
   "cell_type": "markdown",
   "id": "c0cc2149",
   "metadata": {},
   "source": [
    "Lists\n",
    "Mutability: Lists are mutable, allowing their elements to be modified, added, or removed. This flexibility makes them suitable for dynamic data structures.\n",
    "Syntax: Lists are defined using square brackets []."
   ]
  },
  {
   "cell_type": "code",
   "execution_count": 19,
   "id": "0cec79f7",
   "metadata": {},
   "outputs": [],
   "source": [
    "#Examples:\n",
    "my_list = [10, 20, 30, \"world\"]\n",
    "my_list[1] = 50  # This is valid and modifies the second element\n",
    "my_list.append(40)  # Adds 40 to the end of the list"
   ]
  },
  {
   "cell_type": "markdown",
   "id": "7c48cdad",
   "metadata": {},
   "source": [
    "When to Use Which\n",
    "Tuples:\n",
    "When you want to ensure data integrity and prevent accidental modifications.\n",
    "As keys in dictionaries, as tuples are hashable (unlike lists).\n",
    "Lists:\n",
    "When you need to modify, add, or remove elements from a collection.\n",
    "For creating dynamic data structures like stacks, queues, or linked lists."
   ]
  },
  {
   "cell_type": "raw",
   "id": "e8ca3035",
   "metadata": {},
   "source": [
    "#Example:\n",
    "# Creating a tuple of coordinates\n",
    "coordinates = (3, 4)\n",
    "\n",
    "# Creating a list of names\n",
    "names = [\"Alice\", \"Bob\", \"Charlie\"]\n",
    "\n",
    "# Trying to modify the tuple will raise an error\n",
    "coordinates[0] = 5  # This will cause an error\n",
    "\n",
    "# Modifying the list is allowed\n",
    "names.append(\"David\")"
   ]
  },
  {
   "cell_type": "markdown",
   "id": "48c67e89",
   "metadata": {},
   "source": [
    "# Describe the key features of sets and provide examples of their use."
   ]
  },
  {
   "cell_type": "markdown",
   "id": "b740a8d8",
   "metadata": {},
   "source": [
    "Sets in Python are unordered collections of unique elements. They are similar to lists but with the following key differences:\n",
    "\n",
    "Key Features of Sets:\n",
    "Unordered: Elements in a set do not have a specific order.\n",
    "Unique Elements: Sets cannot contain duplicate elements.\n",
    "Mutable: Sets are mutable, allowing you to add, remove, or modify elements.\n",
    "No Indexing: Since sets are unordered, you cannot access elements by index.\n",
    "Set Operations: Sets support various mathematical operations like union, intersection, difference, and symmetric difference.   \n"
   ]
  },
  {
   "cell_type": "markdown",
   "id": "1702c89d",
   "metadata": {},
   "source": [
    "Creating Sets:\n",
    "Sets are created using curly braces {} or the set() constructor."
   ]
  },
  {
   "cell_type": "code",
   "execution_count": 21,
   "id": "6bb4a3ce",
   "metadata": {},
   "outputs": [],
   "source": [
    "#Example:\n",
    "my_set = {1, 2, 3, 4}\n",
    "my_set = set([1, 2, 3, 4])"
   ]
  },
  {
   "cell_type": "markdown",
   "id": "0f8aaf57",
   "metadata": {},
   "source": [
    "Adding and Removing Elements:\n",
    "add(element): Adds an element to the set.\n",
    "remove(element): Removes an element from the set (raises KeyError if not found).   \n",
    "discard(element): Removes an element from the set (does not raise an error if not found).\n",
    "pop(): Removes and returns an arbitrary element from the set."
   ]
  },
  {
   "cell_type": "markdown",
   "id": "c4316d27",
   "metadata": {},
   "source": [
    "Set Operations:\n",
    "Union: Combines elements from both sets, removing duplicates."
   ]
  },
  {
   "cell_type": "code",
   "execution_count": 22,
   "id": "4c200ddf",
   "metadata": {},
   "outputs": [],
   "source": [
    "#Example:\n",
    "set1 = {1, 2, 3}\n",
    "set2 = {3, 4, 5}\n",
    "union_set = set1 | set2  # {1, 2, 3, 4, 5}"
   ]
  },
  {
   "cell_type": "markdown",
   "id": "f45cc0e4",
   "metadata": {},
   "source": [
    "Intersection: Returns elements common to both sets"
   ]
  },
  {
   "cell_type": "code",
   "execution_count": 23,
   "id": "49410131",
   "metadata": {},
   "outputs": [],
   "source": [
    "#Example:\n",
    "intersection_set = set1 & set2  # {3}"
   ]
  },
  {
   "cell_type": "markdown",
   "id": "34dfba5f",
   "metadata": {},
   "source": [
    "Difference: Returns elements in the first set but not in the second."
   ]
  },
  {
   "cell_type": "code",
   "execution_count": 25,
   "id": "67e3756a",
   "metadata": {},
   "outputs": [],
   "source": [
    "#Example:\n",
    "difference_set = set1 - set2  # {1, 2}"
   ]
  },
  {
   "cell_type": "markdown",
   "id": "777972be",
   "metadata": {},
   "source": [
    "Symmetric Difference: Returns elements in either set but not both."
   ]
  },
  {
   "cell_type": "code",
   "execution_count": 26,
   "id": "ade364de",
   "metadata": {},
   "outputs": [],
   "source": [
    "#Example:\n",
    "symmetric_difference_set = set1 ^ set2  # {1, 2, 4, 5}"
   ]
  },
  {
   "cell_type": "markdown",
   "id": "4c5b4b35",
   "metadata": {},
   "source": [
    "Common Use Cases:\n",
    "Membership Testing: Check if an element exists in a set using the in operator.\n",
    "Removing Duplicates: Create a set from a list to remove duplicates.\n",
    "Set Algebra: Perform set operations for mathematical calculations or data analysis.\n",
    "Implementing Algorithms: Use sets for algorithms like finding intersections, unions, or differences between sets."
   ]
  },
  {
   "cell_type": "code",
   "execution_count": 27,
   "id": "5883129d",
   "metadata": {},
   "outputs": [
    {
     "name": "stdout",
     "output_type": "stream",
     "text": [
      "{'potato', 'carrot', 'tomato', 'orange', 'apple', 'banana'}\n",
      "set()\n",
      "{'orange', 'apple', 'banana'}\n"
     ]
    }
   ],
   "source": [
    "#Example:\n",
    "fruits = {\"apple\", \"banana\", \"orange\"}\n",
    "vegetables = {\"carrot\", \"potato\", \"tomato\"}\n",
    "\n",
    "# Union of fruits and vegetables\n",
    "combined = fruits | vegetables\n",
    "\n",
    "# Intersection of fruits and vegetables\n",
    "common = fruits & vegetables\n",
    "\n",
    "# Fruits that are not vegetables\n",
    "unique_fruits = fruits - vegetables\n",
    "\n",
    "print(combined)  # {'apple', 'banana', 'orange', 'carrot', 'potato', 'tomato'}\n",
    "print(common)  # set() (empty set)\n",
    "print(unique_fruits)  # {'apple', 'banana', 'orange'}"
   ]
  },
  {
   "cell_type": "markdown",
   "id": "5c2ed54d",
   "metadata": {},
   "source": [
    "# Discuss the use cases of tuples and sets in python programming."
   ]
  },
  {
   "cell_type": "markdown",
   "id": "6040be69",
   "metadata": {},
   "source": [
    "Tuples:\n",
    "\n",
    "Representing Immutable Data:\n",
    "\n",
    "Tuples are ideal for representing data that should remain constant throughout the program's execution. This ensures data integrity and prevents accidental modifications.\n",
    "For example, you can use tuples to store coordinates, dimensions, or configuration settings."
   ]
  },
  {
   "cell_type": "code",
   "execution_count": 28,
   "id": "19b9637c",
   "metadata": {},
   "outputs": [],
   "source": [
    "#Example:\n",
    "# Representing coordinates\n",
    "coordinates = (3, 4)\n",
    "\n",
    "# Representing configuration settings\n",
    "config = (\"debug\", True, \"port\", 8080)"
   ]
  },
  {
   "cell_type": "markdown",
   "id": "fa3cc09e",
   "metadata": {},
   "source": [
    "Serving as Keys in Dictionaries:\n",
    "\n",
    "Tuples can be used as keys in dictionaries because they are hashable (unlike lists). This allows you to efficiently store and retrieve values based on unique combinations of elements."
   ]
  },
  {
   "cell_type": "code",
   "execution_count": 29,
   "id": "0820cdaf",
   "metadata": {},
   "outputs": [],
   "source": [
    "#Example:\n",
    "# Creating a dictionary with tuples as keys\n",
    "student_data = {\n",
    "    (\"Alice\", 25): {\"major\": \"Computer Science\", \"GPA\": 3.8},\n",
    "    (\"Bob\", 22): {\"major\": \"Mathematics\", \"GPA\": 3.5}\n",
    "}"
   ]
  },
  {
   "cell_type": "markdown",
   "id": "74a52cdf",
   "metadata": {},
   "source": [
    "Returning Multiple Values from Functions:\n",
    "\n",
    "Tuples can be used to return multiple values from a function. This is a convenient way to group related data and pass it back to the caller."
   ]
  },
  {
   "cell_type": "code",
   "execution_count": 30,
   "id": "2952ff1b",
   "metadata": {},
   "outputs": [
    {
     "name": "stdout",
     "output_type": "stream",
     "text": [
      "('Alice', 25)\n"
     ]
    }
   ],
   "source": [
    "#Example:\n",
    "def get_user_info():\n",
    "    name = \"Alice\"\n",
    "    age = 25\n",
    "    return name, age\n",
    "\n",
    "user_info = get_user_info()\n",
    "print(user_info)  # Output: ('Alice', 25)"
   ]
  },
  {
   "cell_type": "markdown",
   "id": "0f29c372",
   "metadata": {},
   "source": [
    "Sets:\n",
    "\n",
    "Removing Duplicates from a List:\n",
    "\n",
    "Creating a set from a list is an efficient way to remove duplicate elements. The set's unique property ensures that only one instance of each element is retained."
   ]
  },
  {
   "cell_type": "code",
   "execution_count": 31,
   "id": "f7df63c1",
   "metadata": {},
   "outputs": [
    {
     "name": "stdout",
     "output_type": "stream",
     "text": [
      "{1, 2, 3, 4}\n"
     ]
    }
   ],
   "source": [
    "#Example:\n",
    "numbers = [1, 2, 3, 2, 4, 1]\n",
    "unique_numbers = set(numbers)\n",
    "print(unique_numbers)  # Output: {1, 2, 3, 4}"
   ]
  },
  {
   "cell_type": "markdown",
   "id": "19064154",
   "metadata": {},
   "source": [
    "Membership Testing:\n",
    "\n",
    "Sets provide efficient membership testing using the in operator. This is useful for checking if an element exists within a collection of unique values."
   ]
  },
  {
   "cell_type": "code",
   "execution_count": 32,
   "id": "56ebbae0",
   "metadata": {},
   "outputs": [
    {
     "name": "stdout",
     "output_type": "stream",
     "text": [
      "Apple is in the set\n"
     ]
    }
   ],
   "source": [
    "#Example:\n",
    "fruits = {\"apple\", \"banana\", \"orange\"}\n",
    "if \"apple\" in fruits:\n",
    "    print(\"Apple is in the set\")"
   ]
  },
  {
   "cell_type": "markdown",
   "id": "2298d6de",
   "metadata": {},
   "source": [
    "Set Operations:\n",
    "\n",
    "Sets support various mathematical operations like union, intersection, difference, and symmetric difference. These operations are useful for data analysis, algorithm implementation, and solving mathematical problems.   \n",
    "  set1 = {1, 2, 3}\n",
    "set2 = {3, 4, 5}"
   ]
  },
  {
   "cell_type": "markdown",
   "id": "331878fa",
   "metadata": {},
   "source": [
    "Union\n",
    "union_set = set1 | set2\n",
    "\n",
    "Intersection\n",
    "intersection_set = set1 & set2\n",
    "\n",
    "Difference\n",
    "difference_set = set1 - set2 1    \n"
   ]
  },
  {
   "cell_type": "markdown",
   "id": "985e8220",
   "metadata": {},
   "source": [
    "# Describe how to add ,modify, and delete items in a dictionary with examples."
   ]
  },
  {
   "cell_type": "markdown",
   "id": "cba9baa7",
   "metadata": {},
   "source": [
    "Adding, Modifying, and Deleting Items in a Dictionary\n",
    "Dictionaries in Python are key-value pairs, where each key is unique and associated with a corresponding value. To add, modify, or delete items in a dictionary, you primarily use the following methods:"
   ]
  },
  {
   "cell_type": "raw",
   "id": "23d39613",
   "metadata": {},
   "source": [
    "Adding Items:\n",
    "Direct Assignment: Assign a value to a new key."
   ]
  },
  {
   "cell_type": "code",
   "execution_count": 34,
   "id": "0779c535",
   "metadata": {},
   "outputs": [],
   "source": [
    "#Example:\n",
    "my_dict = {}\n",
    "my_dict[\"key1\"] = \"value1\"\n",
    "my_dict[\"key2\"] = 20"
   ]
  },
  {
   "cell_type": "raw",
   "id": "cd7d072f",
   "metadata": {},
   "source": [
    "update() Method: Add multiple key-value pairs from another dictionary or an iterable of tuples."
   ]
  },
  {
   "cell_type": "code",
   "execution_count": 35,
   "id": "e6b6f04f",
   "metadata": {},
   "outputs": [],
   "source": [
    "#Example:\n",
    "my_dict = {\"key1\": \"value1\"}\n",
    "new_data = {\"key2\": 20, \"key3\": 30}\n",
    "my_dict.update(new_data)"
   ]
  },
  {
   "cell_type": "raw",
   "id": "79f9879d",
   "metadata": {},
   "source": [
    "Modifying Items:\n",
    "Direct Assignment: Reassign a value to an existing key."
   ]
  },
  {
   "cell_type": "code",
   "execution_count": 36,
   "id": "c6b783ed",
   "metadata": {},
   "outputs": [],
   "source": [
    "#Example:\n",
    "my_dict = {\"key1\": \"value1\"}\n",
    "my_dict[\"key1\"] = \"new_value\""
   ]
  },
  {
   "cell_type": "raw",
   "id": "eaf57dca",
   "metadata": {},
   "source": [
    "Deleting Items:\n",
    "del Keyword: Delete a key-value pair using the del keyword."
   ]
  },
  {
   "cell_type": "code",
   "execution_count": 37,
   "id": "2f2d932b",
   "metadata": {},
   "outputs": [],
   "source": [
    "#Example:\n",
    "my_dict = {\"key1\": \"value1\", \"key2\": 20}\n",
    "del my_dict[\"key1\"]"
   ]
  },
  {
   "cell_type": "raw",
   "id": "844858f6",
   "metadata": {},
   "source": [
    "pop() Method: Remove a key-value pair and return its value."
   ]
  },
  {
   "cell_type": "code",
   "execution_count": 38,
   "id": "84cb5c27",
   "metadata": {},
   "outputs": [],
   "source": [
    "#Example:\n",
    "my_dict = {\"key1\": \"value1\", \"key2\": 20}\n",
    "value = my_dict.pop(\"key2\")"
   ]
  },
  {
   "cell_type": "raw",
   "id": "d6878971",
   "metadata": {},
   "source": [
    "popitem() Method: Remove and return an arbitrary key-value pair as a tuple."
   ]
  },
  {
   "cell_type": "code",
   "execution_count": 39,
   "id": "fb6f23d3",
   "metadata": {},
   "outputs": [],
   "source": [
    "#Example:\n",
    "my_dict = {\"key1\": \"value1\", \"key2\": 20}\n",
    "item = my_dict.popitem()"
   ]
  },
  {
   "cell_type": "code",
   "execution_count": 40,
   "id": "c066a715",
   "metadata": {},
   "outputs": [
    {
     "name": "stdout",
     "output_type": "stream",
     "text": [
      "{'name': 'Alice', 'age': 31, 'occupation': 'Engineer'}\n"
     ]
    }
   ],
   "source": [
    "#Example:\n",
    "my_dict = {\"name\": \"Alice\", \"age\": 30, \"city\": \"New York\"}\n",
    "\n",
    "# Adding a new item\n",
    "my_dict[\"occupation\"] = \"Engineer\"\n",
    "\n",
    "# Modifying an existing item\n",
    "my_dict[\"age\"] = 31\n",
    "\n",
    "# Deleting an item\n",
    "del my_dict[\"city\"]\n",
    "\n",
    "print(my_dict)  # Output: {'name': 'Alice', 'age': 31, 'occupation': 'Engineer'}"
   ]
  },
  {
   "cell_type": "markdown",
   "id": "54d86505",
   "metadata": {},
   "source": [
    "# Discuss the importance of dictionary keys being immutable and provide examples."
   ]
  },
  {
   "cell_type": "raw",
   "id": "0c7046e9",
   "metadata": {},
   "source": [
    "Dictionary keys in Python must be immutable to ensure proper functioning and avoid unexpected behavior. Here's a breakdown of why immutability is crucial:\n",
    "\n",
    "1. Hashing:\n",
    "\n",
    "Dictionaries use hashing to efficiently store and retrieve key-value pairs.\n",
    "Hashing involves creating a unique hash value for each key, which is used to determine the key's storage location within the dictionary.\n",
    "Immutable objects have consistent hash values, allowing them to be reliably used as keys for hashing.\n",
    "If keys were mutable, their hash values could change during the program's execution, leading to unpredictable behavior and potential errors.\n",
    "2. Consistent Lookup:\n",
    "\n",
    "Immutable keys guarantee that their hash values will not change, resulting in consistent lookups.\n",
    "This means that you can always find a value in a dictionary using its key, regardless of when the key was added or if the value has been modified.\n",
    "3. Key Uniqueness:\n",
    "\n",
    "Dictionaries maintain the uniqueness of keys.\n",
    "If keys were mutable, it would be possible for two keys with different values to have the same hash value, leading to collisions and incorrect behavior.\n",
    "Immutability prevents this by ensuring that each key has a unique hash value."
   ]
  },
  {
   "cell_type": "raw",
   "id": "20e48b64",
   "metadata": {},
   "source": [
    "Examples:\n",
    "\n",
    "Valid Keys (Immutable):\n",
    "\n",
    "Numbers (integers, floats)"
   ]
  },
  {
   "cell_type": "code",
   "execution_count": 41,
   "id": "78449a72",
   "metadata": {},
   "outputs": [],
   "source": [
    "#Example:\n",
    "my_dict = {1: \"one\", 2.5: \"two and a half\"}"
   ]
  },
  {
   "cell_type": "markdown",
   "id": "61e58ce3",
   "metadata": {},
   "source": [
    "Strings"
   ]
  },
  {
   "cell_type": "code",
   "execution_count": 42,
   "id": "9d7aa96a",
   "metadata": {},
   "outputs": [],
   "source": [
    "#Example:\n",
    "my_dict = {\"key1\": \"value1\", \"key2\": \"value2\"}"
   ]
  },
  {
   "cell_type": "markdown",
   "id": "de69b185",
   "metadata": {},
   "source": [
    "Tuples"
   ]
  },
  {
   "cell_type": "code",
   "execution_count": 43,
   "id": "ca4c1e4a",
   "metadata": {},
   "outputs": [],
   "source": [
    "#Example:\n",
    "my_dict = {(1, 2): \"coordinate\", (\"a\", \"b\"): \"pair\"}"
   ]
  },
  {
   "cell_type": "markdown",
   "id": "6579f0d5",
   "metadata": {},
   "source": [
    "Invalid Keys (Mutable):\n",
    "\n",
    "Lists"
   ]
  },
  {
   "cell_type": "code",
   "execution_count": 45,
   "id": "6dd8ff51",
   "metadata": {},
   "outputs": [
    {
     "ename": "TypeError",
     "evalue": "unhashable type: 'list'",
     "output_type": "error",
     "traceback": [
      "\u001b[1;31m---------------------------------------------------------------------------\u001b[0m",
      "\u001b[1;31mTypeError\u001b[0m                                 Traceback (most recent call last)",
      "Input \u001b[1;32mIn [45]\u001b[0m, in \u001b[0;36m<cell line: 2>\u001b[1;34m()\u001b[0m\n\u001b[0;32m      1\u001b[0m \u001b[38;5;66;03m#Example:\u001b[39;00m\n\u001b[1;32m----> 2\u001b[0m my_dict \u001b[38;5;241m=\u001b[39m {[\u001b[38;5;241m1\u001b[39m, \u001b[38;5;241m2\u001b[39m]: \u001b[38;5;124m\"\u001b[39m\u001b[38;5;124mlist\u001b[39m\u001b[38;5;124m\"\u001b[39m}\n",
      "\u001b[1;31mTypeError\u001b[0m: unhashable type: 'list'"
     ]
    }
   ],
   "source": [
    "#Example:\n",
    "my_dict = {[1, 2]: \"list\"}  # Raises TypeError"
   ]
  },
  {
   "cell_type": "markdown",
   "id": "e561c046",
   "metadata": {},
   "source": [
    "Dictionaries"
   ]
  },
  {
   "cell_type": "code",
   "execution_count": 46,
   "id": "911c35bf",
   "metadata": {},
   "outputs": [
    {
     "ename": "TypeError",
     "evalue": "unhashable type: 'dict'",
     "output_type": "error",
     "traceback": [
      "\u001b[1;31m---------------------------------------------------------------------------\u001b[0m",
      "\u001b[1;31mTypeError\u001b[0m                                 Traceback (most recent call last)",
      "Input \u001b[1;32mIn [46]\u001b[0m, in \u001b[0;36m<cell line: 2>\u001b[1;34m()\u001b[0m\n\u001b[0;32m      1\u001b[0m \u001b[38;5;66;03m#Example:\u001b[39;00m\n\u001b[1;32m----> 2\u001b[0m my_dict \u001b[38;5;241m=\u001b[39m {{\u001b[38;5;241m1\u001b[39m: \u001b[38;5;241m2\u001b[39m}: \u001b[38;5;124m\"\u001b[39m\u001b[38;5;124mdictionary\u001b[39m\u001b[38;5;124m\"\u001b[39m}\n",
      "\u001b[1;31mTypeError\u001b[0m: unhashable type: 'dict'"
     ]
    }
   ],
   "source": [
    "#Example:\n",
    "my_dict = {{1: 2}: \"dictionary\"}  # Raises TypeError"
   ]
  },
  {
   "cell_type": "markdown",
   "id": "fcf48209",
   "metadata": {},
   "source": [
    "Sets"
   ]
  },
  {
   "cell_type": "code",
   "execution_count": 47,
   "id": "88174f14",
   "metadata": {},
   "outputs": [
    {
     "ename": "TypeError",
     "evalue": "unhashable type: 'set'",
     "output_type": "error",
     "traceback": [
      "\u001b[1;31m---------------------------------------------------------------------------\u001b[0m",
      "\u001b[1;31mTypeError\u001b[0m                                 Traceback (most recent call last)",
      "Input \u001b[1;32mIn [47]\u001b[0m, in \u001b[0;36m<cell line: 2>\u001b[1;34m()\u001b[0m\n\u001b[0;32m      1\u001b[0m \u001b[38;5;66;03m#Example:\u001b[39;00m\n\u001b[1;32m----> 2\u001b[0m my_dict \u001b[38;5;241m=\u001b[39m {{\u001b[38;5;241m1\u001b[39m, \u001b[38;5;241m2\u001b[39m}: \u001b[38;5;124m\"\u001b[39m\u001b[38;5;124mset\u001b[39m\u001b[38;5;124m\"\u001b[39m}\n",
      "\u001b[1;31mTypeError\u001b[0m: unhashable type: 'set'"
     ]
    }
   ],
   "source": [
    "#Example:\n",
    "my_dict = {{1, 2}: \"set\"}  # Raises TypeError"
   ]
  },
  {
   "cell_type": "markdown",
   "id": "9468b8c5",
   "metadata": {},
   "source": [
    "Key Points:\n",
    "\n",
    "Using immutable objects as dictionary keys ensures predictable behavior, efficient lookups, and the integrity of the dictionary's data.\n",
    "Common choices for dictionary keys include numbers, strings, and tuples.\n",
    "Avoid using mutable objects like lists, dictionaries, and sets as keys to prevent errors and maintain the dictionary's functionality."
   ]
  },
  {
   "cell_type": "code",
   "execution_count": null,
   "id": "f5b91f8f",
   "metadata": {},
   "outputs": [],
   "source": []
  }
 ],
 "metadata": {
  "kernelspec": {
   "display_name": "Python 3 (ipykernel)",
   "language": "python",
   "name": "python3"
  },
  "language_info": {
   "codemirror_mode": {
    "name": "ipython",
    "version": 3
   },
   "file_extension": ".py",
   "mimetype": "text/x-python",
   "name": "python",
   "nbconvert_exporter": "python",
   "pygments_lexer": "ipython3",
   "version": "3.9.12"
  }
 },
 "nbformat": 4,
 "nbformat_minor": 5
}
